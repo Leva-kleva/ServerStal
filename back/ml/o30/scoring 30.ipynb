{
 "cells": [
  {
   "cell_type": "code",
   "execution_count": 117,
   "id": "cce232a6",
   "metadata": {},
   "outputs": [],
   "source": [
    "import joblib\n",
    "import pandas as pd\n",
    "import numpy as np\n",
    "from sklearn.metrics import roc_auc_score\n"
   ]
  },
  {
   "cell_type": "code",
   "execution_count": 118,
   "id": "ba21b011",
   "metadata": {},
   "outputs": [],
   "source": [
    "ss_fin_module = joblib.load('ss_fin_30.pkl')\n",
    "fin_module30 = joblib.load( 'fin_model_no_woe30_15_best.pkl')"
   ]
  },
  {
   "cell_type": "code",
   "execution_count": 119,
   "id": "14c513b6",
   "metadata": {},
   "outputs": [],
   "source": [
    "df_2021 = pd.read_csv('counterparty-analysis/agents2021.csv')\n",
    "df_2021 = df_2021.drop(['Unnamed: 0'], axis = 1)"
   ]
  },
  {
   "cell_type": "code",
   "execution_count": 120,
   "id": "a0971cb3",
   "metadata": {},
   "outputs": [],
   "source": [
    "df_2021['default0'] = ((df_2021['ПДЗ 31-90']+ df_2021['ПДЗ 91-365']+\n",
    "                                                    df_2021['ПДЗ более 365'])>0).astype(int)"
   ]
  },
  {
   "cell_type": "code",
   "execution_count": 121,
   "id": "a56d8162",
   "metadata": {},
   "outputs": [],
   "source": [
    "import columns_mapping as cm"
   ]
  },
  {
   "cell_type": "code",
   "execution_count": 122,
   "id": "71cacf2a",
   "metadata": {},
   "outputs": [],
   "source": [
    "df_2021 = cm.rename_columns(df_2021, 2021)"
   ]
  },
  {
   "cell_type": "code",
   "execution_count": 140,
   "id": "aa206e40",
   "metadata": {},
   "outputs": [],
   "source": [
    "df_small = df_2021[['кратк_обязат_lag2','выручка_lag1','кредит_задол_lag1', 'немат_активы_lag1',\n",
    "                   'прибыль_lag2', 'немат_активы_lag2', 'заемн_ср_кратк_lag3', 'внеоб_активы_lag3', 'долгоср_обязат_lag1',\n",
    "                   'ук_lag3', 'заемн_ср_кратк_lag2', 'прибыль_до_налога_lag2', 'прибыль_lag3']]"
   ]
  },
  {
   "cell_type": "code",
   "execution_count": 124,
   "id": "4eecd7e4",
   "metadata": {
    "scrolled": true
   },
   "outputs": [
    {
     "name": "stderr",
     "output_type": "stream",
     "text": [
      "/var/folders/l9/x43hsk7d2x1g2r7qw4f9nbg40000gn/T/ipykernel_77700/2894406479.py:1: SettingWithCopyWarning: \n",
      "A value is trying to be set on a copy of a slice from a DataFrame.\n",
      "Try using .loc[row_indexer,col_indexer] = value instead\n",
      "\n",
      "See the caveats in the documentation: https://pandas.pydata.org/pandas-docs/stable/user_guide/indexing.html#returning-a-view-versus-a-copy\n",
      "  df_small['div_log_кратк_обязат_lag2_log_выручка_lag1'] = np.log1p(df_small['кратк_обязат_lag2'])/ \\\n",
      "/var/folders/l9/x43hsk7d2x1g2r7qw4f9nbg40000gn/T/ipykernel_77700/2894406479.py:3: SettingWithCopyWarning: \n",
      "A value is trying to be set on a copy of a slice from a DataFrame.\n",
      "Try using .loc[row_indexer,col_indexer] = value instead\n",
      "\n",
      "See the caveats in the documentation: https://pandas.pydata.org/pandas-docs/stable/user_guide/indexing.html#returning-a-view-versus-a-copy\n",
      "  df_small['mult_кредит_задол_lag1_кратк_обязат_lag2'] = df_small['кредит_задол_lag1']* df_small['кратк_обязат_lag2']\n",
      "/var/folders/l9/x43hsk7d2x1g2r7qw4f9nbg40000gn/T/ipykernel_77700/2894406479.py:4: SettingWithCopyWarning: \n",
      "A value is trying to be set on a copy of a slice from a DataFrame.\n",
      "Try using .loc[row_indexer,col_indexer] = value instead\n",
      "\n",
      "See the caveats in the documentation: https://pandas.pydata.org/pandas-docs/stable/user_guide/indexing.html#returning-a-view-versus-a-copy\n",
      "  df_small['div_немат_активы_lag1_заемн_ср_кратк_lag2'] = df_small['немат_активы_lag1']/ df_small['заемн_ср_кратк_lag2']\n",
      "/var/folders/l9/x43hsk7d2x1g2r7qw4f9nbg40000gn/T/ipykernel_77700/2894406479.py:5: SettingWithCopyWarning: \n",
      "A value is trying to be set on a copy of a slice from a DataFrame.\n",
      "Try using .loc[row_indexer,col_indexer] = value instead\n",
      "\n",
      "See the caveats in the documentation: https://pandas.pydata.org/pandas-docs/stable/user_guide/indexing.html#returning-a-view-versus-a-copy\n",
      "  df_small['div_немат_активы_lag1_прибыль_lag2'] = df_small['немат_активы_lag1']* df_small['прибыль_lag2']\n",
      "/var/folders/l9/x43hsk7d2x1g2r7qw4f9nbg40000gn/T/ipykernel_77700/2894406479.py:6: SettingWithCopyWarning: \n",
      "A value is trying to be set on a copy of a slice from a DataFrame.\n",
      "Try using .loc[row_indexer,col_indexer] = value instead\n",
      "\n",
      "See the caveats in the documentation: https://pandas.pydata.org/pandas-docs/stable/user_guide/indexing.html#returning-a-view-versus-a-copy\n",
      "  df_small['div_немат_активы_lag2_заемн_ср_кратк_lag3'] = df_small['немат_активы_lag2']/ df_small['заемн_ср_кратк_lag3']\n",
      "/var/folders/l9/x43hsk7d2x1g2r7qw4f9nbg40000gn/T/ipykernel_77700/2894406479.py:7: SettingWithCopyWarning: \n",
      "A value is trying to be set on a copy of a slice from a DataFrame.\n",
      "Try using .loc[row_indexer,col_indexer] = value instead\n",
      "\n",
      "See the caveats in the documentation: https://pandas.pydata.org/pandas-docs/stable/user_guide/indexing.html#returning-a-view-versus-a-copy\n",
      "  df_small['div_внеоб_активы_lag3_долгоср_обязат_lag1'] = df_small['внеоб_активы_lag3']* df_small['долгоср_обязат_lag1']\n",
      "/var/folders/l9/x43hsk7d2x1g2r7qw4f9nbg40000gn/T/ipykernel_77700/2894406479.py:8: SettingWithCopyWarning: \n",
      "A value is trying to be set on a copy of a slice from a DataFrame.\n",
      "Try using .loc[row_indexer,col_indexer] = value instead\n",
      "\n",
      "See the caveats in the documentation: https://pandas.pydata.org/pandas-docs/stable/user_guide/indexing.html#returning-a-view-versus-a-copy\n",
      "  df_small['div_ук_lag3_заемн_ср_кратк_lag2'] = df_small['ук_lag3']/ df_small['заемн_ср_кратк_lag2']\n",
      "/var/folders/l9/x43hsk7d2x1g2r7qw4f9nbg40000gn/T/ipykernel_77700/2894406479.py:9: SettingWithCopyWarning: \n",
      "A value is trying to be set on a copy of a slice from a DataFrame.\n",
      "Try using .loc[row_indexer,col_indexer] = value instead\n",
      "\n",
      "See the caveats in the documentation: https://pandas.pydata.org/pandas-docs/stable/user_guide/indexing.html#returning-a-view-versus-a-copy\n",
      "  df_small['div_прибыль_до_налога_lag2_прибыль_lag3'] = df_small['прибыль_до_налога_lag2']/ df_small['прибыль_lag3']\n"
     ]
    }
   ],
   "source": [
    "df_small['div_log_кратк_обязат_lag2_log_выручка_lag1'] = np.log1p(df_small['кратк_обязат_lag2'])/ \\\n",
    "    np.log1p(df_small['выручка_lag1'])\n",
    "df_small['mult_кредит_задол_lag1_кратк_обязат_lag2'] = df_small['кредит_задол_lag1']* df_small['кратк_обязат_lag2']\n",
    "df_small['div_немат_активы_lag1_заемн_ср_кратк_lag2'] = df_small['немат_активы_lag1']/ df_small['заемн_ср_кратк_lag2']\n",
    "df_small['div_немат_активы_lag1_прибыль_lag2'] = df_small['немат_активы_lag1']* df_small['прибыль_lag2']\n",
    "df_small['div_немат_активы_lag2_заемн_ср_кратк_lag3'] = df_small['немат_активы_lag2']/ df_small['заемн_ср_кратк_lag3']\n",
    "df_small['div_внеоб_активы_lag3_долгоср_обязат_lag1'] = df_small['внеоб_активы_lag3']* df_small['долгоср_обязат_lag1']\n",
    "df_small['div_ук_lag3_заемн_ср_кратк_lag2'] = df_small['ук_lag3']/ df_small['заемн_ср_кратк_lag2']\n",
    "df_small['div_прибыль_до_налога_lag2_прибыль_lag3'] = df_small['прибыль_до_налога_lag2']/ df_small['прибыль_lag3']\n"
   ]
  },
  {
   "cell_type": "code",
   "execution_count": 125,
   "id": "0acbd895",
   "metadata": {},
   "outputs": [],
   "source": [
    "features = ['div_немат_активы_lag1_заемн_ср_кратк_lag2',\n",
    " 'mult_кредит_задол_lag1_кратк_обязат_lag2',\n",
    " 'div_прибыль_до_налога_lag2_прибыль_lag3',\n",
    " 'div_немат_активы_lag1_прибыль_lag2',\n",
    " 'div_ук_lag3_заемн_ср_кратк_lag2',\n",
    " 'div_внеоб_активы_lag3_долгоср_обязат_lag1',\n",
    " 'div_немат_активы_lag2_заемн_ср_кратк_lag3',\n",
    " 'div_log_кратк_обязат_lag2_log_выручка_lag1']"
   ]
  },
  {
   "cell_type": "code",
   "execution_count": 126,
   "id": "dc0aedfe",
   "metadata": {},
   "outputs": [],
   "source": [
    "df_small = df_small.fillna(0)\n",
    "df_small[df_small.isin([np.inf, -np.inf])] = 0 # заменим нулем"
   ]
  },
  {
   "cell_type": "code",
   "execution_count": 127,
   "id": "8e3e54bf",
   "metadata": {},
   "outputs": [],
   "source": [
    "df_small_ss = df_small[features].copy()"
   ]
  },
  {
   "cell_type": "code",
   "execution_count": 128,
   "id": "7c4fbcf6",
   "metadata": {},
   "outputs": [],
   "source": [
    "df_small_ss[features] = ss_fin_module.transform(df_small_ss[features])"
   ]
  },
  {
   "cell_type": "code",
   "execution_count": 135,
   "id": "9f21c3a3",
   "metadata": {},
   "outputs": [],
   "source": [
    "df_2021['preds_test'] = fin_module30.predict_proba(df_small_ss[features])[:,1]"
   ]
  },
  {
   "cell_type": "code",
   "execution_count": null,
   "id": "17d51b11",
   "metadata": {},
   "outputs": [],
   "source": []
  }
 ],
 "metadata": {
  "kernelspec": {
   "display_name": "Python 3 (ipykernel)",
   "language": "python",
   "name": "python3"
  },
  "language_info": {
   "codemirror_mode": {
    "name": "ipython",
    "version": 3
   },
   "file_extension": ".py",
   "mimetype": "text/x-python",
   "name": "python",
   "nbconvert_exporter": "python",
   "pygments_lexer": "ipython3",
   "version": "3.9.2"
  }
 },
 "nbformat": 4,
 "nbformat_minor": 5
}
